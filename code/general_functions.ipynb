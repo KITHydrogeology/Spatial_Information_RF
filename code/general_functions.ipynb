{
 "cells": [
  {
   "cell_type": "code",
   "execution_count": 1,
   "id": "43f5e91f",
   "metadata": {},
   "outputs": [],
   "source": [
    "import pandas as pd\n",
    "import geopandas as gpd"
   ]
  },
  {
   "cell_type": "code",
   "execution_count": 2,
   "id": "0284d80f",
   "metadata": {},
   "outputs": [],
   "source": [
    "def read_data(url):\n",
    "    # Mapping of URL to data sources\n",
    "    url_mapping = {\n",
    "        'point': 'https://raw.githubusercontent.com/marcohmer/Spatial_Information_RF/main/data/NO3_BW_data.csv',\n",
    "        'grid': 'https://raw.githubusercontent.com/marcohmer/Spatial_Information_RF/main/data/NO3_BW_Grid.csv'\n",
    "    }\n",
    "    if url not in url_mapping:\n",
    "        raise ValueError('Invalid URL!')  \n",
    "    # Read data from the specified URL\n",
    "    df = pd.read_csv(url_mapping[url], index_col=\"GW-Nummer\" if url == 'point' else None)    \n",
    "    # Rename the 'Nitrat' column to 'target'\n",
    "    df.rename(columns={'Nitrat': 'target'}, inplace=True)    \n",
    "    # Create a GeoDataFrame with geometry column from x and y coordinates\n",
    "    gdf = gpd.GeoDataFrame(df, geometry=gpd.points_from_xy(df['x'], df['y']), crs='EPSG:32632')    \n",
    "    return df, gdf\n",
    "\n",
    "\n",
    "def preprocess(input_data, variables, parameters, regio=None):\n",
    "    # Iterate over the variables and apply the respective functions\n",
    "    for variable, status in variables.items():\n",
    "        if status and variable in functions:\n",
    "            print(variable)\n",
    "            input_data = functions[variable](input_data, parameters)    \n",
    "    # Drop x and y columns if GC is False\n",
    "    if not variables['GC']:\n",
    "        input_data.drop(columns=['x', 'y'], inplace=True)    \n",
    "    return input_data\n",
    "\n",
    "\n",
    "def generate_variable_string(variables, parameters):\n",
    "    result = \"\"    \n",
    "    # Generate a string based on the selected variables and their parameters\n",
    "    for key, value in variables.items():\n",
    "        if value:\n",
    "            if key in parameters:\n",
    "                param_value = parameters[key]\n",
    "                if isinstance(param_value, tuple):\n",
    "                    param_str = ','.join(str(val) for val in param_value)\n",
    "                    result += f'{key}{param_str}_'\n",
    "                else:\n",
    "                    result += f'{key}{param_value}_'\n",
    "            else:\n",
    "                result += f'{key}_'    \n",
    "    # Remove the trailing underscore\n",
    "    result = result.rstrip('_')    \n",
    "    return result\n"
   ]
  }
 ],
 "metadata": {
  "kernelspec": {
   "display_name": "Python 3 (ipykernel)",
   "language": "python",
   "name": "python3"
  },
  "language_info": {
   "codemirror_mode": {
    "name": "ipython",
    "version": 3
   },
   "file_extension": ".py",
   "mimetype": "text/x-python",
   "name": "python",
   "nbconvert_exporter": "python",
   "pygments_lexer": "ipython3",
   "version": "3.9.16"
  },
  "varInspector": {
   "cols": {
    "lenName": 16,
    "lenType": 16,
    "lenVar": 40
   },
   "kernels_config": {
    "python": {
     "delete_cmd_postfix": "",
     "delete_cmd_prefix": "del ",
     "library": "var_list.py",
     "varRefreshCmd": "print(var_dic_list())"
    },
    "r": {
     "delete_cmd_postfix": ") ",
     "delete_cmd_prefix": "rm(",
     "library": "var_list.r",
     "varRefreshCmd": "cat(var_dic_list()) "
    }
   },
   "types_to_exclude": [
    "module",
    "function",
    "builtin_function_or_method",
    "instance",
    "_Feature"
   ],
   "window_display": false
  }
 },
 "nbformat": 4,
 "nbformat_minor": 5
}
